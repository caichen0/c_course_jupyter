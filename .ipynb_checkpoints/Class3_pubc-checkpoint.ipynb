{
 "cells": [
  {
   "cell_type": "markdown",
   "metadata": {},
   "source": [
    "<p style=\"text-align: center;font-size: 33px;font-weight:bold;\"> <span style=\"color:DarkGoldenrod\">&lt;&lt; C程序的基本要素 &gt;&gt;</span></p>\n",
    "<p style=\"text-align: center;font-size: 25px;font-weight:bold;\"> <span style=\"color:Goldenrod\">&lt;&lt; Programming Basics using C Language  &gt;&gt;</span></p>\n",
    "<p style=\"text-align: right; font-size:15px; font-weight:normal\">----千里之行，基于硅步</p>"
   ]
  },
  {
   "cell_type": "markdown",
   "metadata": {},
   "source": [
    "* **数据类型**\n",
    "* **C语句**\n",
    "* **数据的输入与输出**"
   ]
  },
  {
   "cell_type": "markdown",
   "metadata": {},
   "source": [
    "### 基本数据类型"
   ]
  },
  {
   "cell_type": "markdown",
   "metadata": {},
   "source": [
    "* **常量：** &nbsp;&nbsp;&nbsp;&nbsp; 程序中值不能被改变的量（程序不能改变，人可以通过修改源代码的方式调整）\n",
    "* **变量：** &nbsp;&nbsp;&nbsp;&nbsp; 程序中值能被改变的量  （回忆`伪代码`的的赋值符号$\\rightarrow$）\n",
    " * **数值变量** &nbsp;&nbsp;&nbsp;&nbsp; 存放具体数值\n",
    " * **枚举变量** &nbsp;&nbsp;&nbsp;&nbsp; 以自定义符号集合进行定义，存放自定义的符号\n",
    " * **指针变量** &nbsp;&nbsp;&nbsp;&nbsp; 存放`数值变量`的内存地址\n",
    "* **数组** "
   ]
  },
  {
   "cell_type": "markdown",
   "metadata": {},
   "source": [
    "### 常量\n",
    "1. 通过`预编译`(`预处理`)指令进行定义。`编译器`在编译C代码的时候进行`符号替换`。\n",
    "2. 使用 const '常变量'定义符在`函数体`中定义"
   ]
  },
  {
   "cell_type": "code",
   "execution_count": 1,
   "metadata": {},
   "outputs": [
    {
     "name": "stdout",
     "output_type": "stream",
     "text": [
      "The value of PI is:3.141593\n",
      "The value of c_pi is:3.141593"
     ]
    }
   ],
   "source": [
    "#include <stdio.h>\n",
    "#define PI 3.141592657\n",
    "int main(){\n",
    "const float c_pi=3.141592657;\n",
    "printf(\"The value of PI is:%lf\\n\",PI);\n",
    "printf(\"The value of c_pi is:%lf\",c_pi);\n",
    "return 0;\n",
    "}"
   ]
  },
  {
   "cell_type": "markdown",
   "metadata": {},
   "source": [
    "### 理解`数值变量`的准备知识\n",
    "*  二进制正实数\n",
    " *  二进制正整数\n",
    " *  二进制小数\n",
    "* 定长二进制数\n",
    " *  原码\n",
    " *  反码\n",
    " *  补码\n",
    " *  移码"
   ]
  },
  {
   "cell_type": "markdown",
   "metadata": {},
   "source": [
    "**二进制正实数**（不精确的描述，康托尔的悲剧）<br>   \n",
    "* 二进制整数：逢二进一<br>\n",
    "* 二进制小数：小数点后n位的1代表$2^{-k}$<br>\n",
    "**例**<br>\n",
    "$1011.1011=1\\times 2^0+1 \\times 2^1 +0 \\times 2^2 + 1 \\times 2^3 + 1 \\times 2^{-1}+ 0 \\times 2^{-2} +1 \\times 2^{-3} + 1 \\times 2^{-4}$<br>\n",
    "\n",
    "二进制数$s$到任意进制的转换：$F(s)=\\cdots +_{(D)} s_{-2} 2^{-2}+_{(D)}s_{-1} 2^{-1}+_{(D)}s_0 2^0+_{(D)}s_1 2^1+_{(D)}s_2 2^2+_{(D)}s_3 2^3+\\cdots$ \n",
    "<br>$+_{(D)}$：逢D进一，D为转换进制数）<br>\n",
    "**注：**  $2^5_{(8)}=32_{(10)}=40_{(8)}=20_{(16)}$<br>"
   ]
  },
  {
   "cell_type": "code",
   "execution_count": 34,
   "metadata": {},
   "outputs": [
    {
     "name": "stdout",
     "output_type": "stream",
     "text": [
      "32=32(10)\n",
      "32=40(8)\n",
      "32=20(16)\n",
      "40(8)=32(10)\n",
      "20(16)=32(10)\n"
     ]
    }
   ],
   "source": [
    "//3位二进制数代表1位8进制，4位二进制数代表1位16进制数。故计算机常用8进制或16进制记录数据，方便数值转换。\n",
    "//%cflags:-lm\n",
    "#include <stdio.h>\n",
    "#include <math.h>\n",
    "int main(){\n",
    "printf(\"32=%d(10)\\n\",32);     //输出十进制数32\n",
    "printf(\"32=%o(8)\\n\",32);       //输出十进制数32的8进制表达\n",
    "printf(\"32=%x(16)\\n\",32);     //输出十进制数32的16进制表达\n",
    "//\n",
    "//\n",
    "printf(\"40(8)=%d(10)\\n\",040);      //以前缀0标记数的进制为8\n",
    "printf(\"20(16)=%d(10)\\n\",0x20);  //以前缀0x标记数的进制为8\n",
    "return 0;\n",
    "}"
   ]
  },
  {
   "cell_type": "markdown",
   "metadata": {},
   "source": [
    "#### 伪代码\n",
    "**示例:任意进制正整数的二进制转换**<br>\n",
    "<div style=\" overflow: hidden;\n",
    "    background-color: silver;\">\n",
    "<div style=\"display: inline-block;\n",
    "   position: relative;\n",
    "   left: 50%;\n",
    "   background-color: silver;\">\n",
    "    <div style=\"display: inline-block;\n",
    "    position: relative;\n",
    "    left: -50%;\n",
    "    width: 250px;\n",
    "    background-color: white;\">\n",
    "    <p style=\"text-align: left; font-size:15px; font-weight:normal;\">\n",
    "    输入`任意进制正整数`:   $D$<br>\n",
    "    设 `计数变量`:$0 \\rightarrow k$<br>\n",
    "    while $D>0$<br>\n",
    "    &nbsp;&nbsp;&nbsp;&nbsp;    2除$D$取余$\\rightarrow s_k$<br>\n",
    "    &nbsp;&nbsp;&nbsp;&nbsp;    2除$D$取整$\\rightarrow D$<br>\n",
    "    &nbsp;&nbsp;&nbsp;&nbsp;    $k+1 \\rightarrow k$<br>\n",
    "    输出 `二进制数` $s=s_{(k-1)}s_{(k-2)}\\cdots s_{(0)}$<br>\n",
    "    </p>\n",
    "    </div>\n",
    "    </div>\n",
    "    </div>"
   ]
  },
  {
   "cell_type": "markdown",
   "metadata": {},
   "source": [
    "**问1：**  $0.1_{(8)}=?_{(10)}$<br>\n",
    "**问2：**  $0.1_{(8)}=?_{(2)}$<br>\n",
    "**问3：**  $0.1_{(10)}=?_{(2)}$<br>"
   ]
  },
  {
   "cell_type": "markdown",
   "metadata": {},
   "source": [
    "#### 伪代码\n",
    "**示例:任意进制小数的二进制转换**<br>\n",
    "<div style=\" overflow: hidden;\n",
    "    background-color: silver;\">\n",
    "<div style=\"display: inline-block;\n",
    "   position: relative;\n",
    "   left: 50%;\n",
    "   background-color: silver;\">\n",
    "    <div style=\"display: inline-block;\n",
    "    position: relative;\n",
    "    left: -50%;\n",
    "    width:250px;\n",
    "    background-color: white;\">\n",
    "    <p style=\"text-align: left; font-size:15px; font-weight:normal;\">\n",
    "    输入`任意进制小数`:   $D$<br>\n",
    "    初始化：$0_{(2)} \\rightarrow s$;$1 \\rightarrow k$<br>\n",
    "    设 `计数变量`:$0 \\rightarrow k$<br>\n",
    "    while $1$<br>\n",
    "    &nbsp;&nbsp;&nbsp;&nbsp;    当$D-s=0$:结束<br>\n",
    "    &nbsp;&nbsp;&nbsp;&nbsp;    当$D-s>0$:$s_{-k}=1$<br>\n",
    "    &nbsp;&nbsp;&nbsp;&nbsp;    当$D-s<0$:$s_{-k}=0$<br>\n",
    "    &nbsp;&nbsp;&nbsp;&nbsp;    $D-s_{-k} 2^{-k} \\rightarrow D$<br>\n",
    "    &nbsp;&nbsp;&nbsp;&nbsp;    $k+1 \\rightarrow k$<br>\n",
    "    输出 `二进制数` $s=s_{(-1)}s_{(-2)}\\cdots s_{(-k)}$<br>\n",
    "    </p>\n",
    "    </div>\n",
    "    </div>\n",
    "    </div>"
   ]
  },
  {
   "cell_type": "markdown",
   "metadata": {},
   "source": [
    "**问：上述算法存在什么问题？**"
   ]
  },
  {
   "cell_type": "markdown",
   "metadata": {},
   "source": [
    "####  定长二进制数\n",
    "计算机内部2进制数的表达受到`位数`的限制<br>\n",
    "例： 8位二进制数对于`整数`的表达范围为$-128 \\to 127$(整数分为正数与负数)\n",
    "\n",
    "8位二进制数对于`正数`的表达范围为$0 \\to 255$\n",
    "\n",
    "range(<u>&nbsp;&nbsp;</u>&nbsp;&nbsp;<u>&nbsp;&nbsp;</u>&nbsp;&nbsp;<u>&nbsp;&nbsp;</u>&nbsp;&nbsp;<u>&nbsp;&nbsp;</u>&nbsp;&nbsp;<u>&nbsp;&nbsp;</u>&nbsp;&nbsp;<u>&nbsp;&nbsp;</u>&nbsp;&nbsp;<u>&nbsp;&nbsp;</u>&nbsp;&nbsp;<u>&nbsp;&nbsp;</u>&nbsp;&nbsp;)=$2 \\times 2 \\times 2 \\times \\cdots$=$2^8$＝256\n",
    "\n",
    "从0数到255；从－128数到127统统都是256\n",
    "\n",
    "代码示例：\n",
    "```C\n",
    "signed char a=127,b=3,c;\n",
    "c=a+b;\n",
    "printf(\"%d\",c);\n",
    "```"
   ]
  },
  {
   "cell_type": "markdown",
   "metadata": {},
   "source": [
    "正整数的最高位（定长才成立）为0<br>\n",
    "负整数的最高位（定长才成立）为1<br>\n",
    "**问：8位二进制数1000&nbsp;&nbsp;0011代表-3吗？**<br>"
   ]
  },
  {
   "cell_type": "code",
   "execution_count": 41,
   "metadata": {},
   "outputs": [
    {
     "name": "stdout",
     "output_type": "stream",
     "text": [
      "-125\n"
     ]
    }
   ],
   "source": [
    "#include <stdio.h>\n",
    "int main(){\n",
    "printf( \"%d\\n\" ,(signed char)0x83);\n",
    "return 0;\n",
    "}"
   ]
  },
  {
   "cell_type": "markdown",
   "metadata": {},
   "source": [
    "如上，答案是否定的。Why？（注意数字0）<br>\n",
    "因为：计算机内部`**负**整数`采用`补码`存放<br>\n",
    "**补码的生成： 将（-D）去号，转换为2进制数，然后各位取反，再加一** <br>\n",
    "0000&nbsp;&nbsp;0011 $\\rightarrow$1111&nbsp;&nbsp;1100(反码)$\\rightarrow$1111&nbsp;&nbsp;1101$\\rightarrow$0xFD"
   ]
  },
  {
   "cell_type": "code",
   "execution_count": 42,
   "metadata": {},
   "outputs": [
    {
     "name": "stdout",
     "output_type": "stream",
     "text": [
      "-3\n"
     ]
    }
   ],
   "source": [
    "#include <stdio.h>\n",
    "int main(){\n",
    "printf( \"%d\\n\" ,(signed char)0xFD);\n",
    "return 0;\n",
    "}"
   ]
  },
  {
   "cell_type": "markdown",
   "metadata": {},
   "source": [
    "**回顾C语言的特性： 不做类型检查，语法灵活（好还是不好？因人而异）**<br>\n",
    "请看：C语言中的**符号溢出**与**数值溢出**现象！<br>"
   ]
  },
  {
   "cell_type": "code",
   "execution_count": 47,
   "metadata": {},
   "outputs": [
    {
     "name": "stdout",
     "output_type": "stream",
     "text": [
      "-126\n",
      "0\n",
      "2\n",
      "4\n"
     ]
    }
   ],
   "source": [
    "#include <stdio.h>\n",
    "int main(){\n",
    "/*例：符号位溢出*/\n",
    "signed   char a=127,b=3,c;\n",
    "c=a+b;// 变量c的最高位为1，具有负数符号位\n",
    "printf(\"%d\\n\",c); //与130（2）等效的补码（255（2）-130（2）+1（2））。 \n",
    "\n",
    "/*例：符号位溢出2*/\n",
    "a=-128;\n",
    "c=a+a;\n",
    "printf(\"%d\\n\",c);\n",
    "/*例：数值溢出1*/    \n",
    "unsigned char d=255,e=3,f;\n",
    "f=d+e;\n",
    "printf(\"%d\\n\",f);\n",
    "/*例：数值溢出2*/\n",
    "f=e-d;\n",
    "printf(\"%d\\n\",f);//3+255(作补)=4\n",
    "}"
   ]
  },
  {
   "cell_type": "markdown",
   "metadata": {},
   "source": [
    "#溢出归纳\n",
    "1. 有符号整型发生上溢（运算结果超出类型表达的最大整数）有可能转换为补码形式的负数，此时最高位为1<br>\n",
    "2. 有符号整型发生下溢（运算结果超出类型表达的最小整数）有可能转换为原码形式的整数，此时最高为为0<br>\n",
    "3. 无符号整型发生上溢（超出数值表达范围）即转换为模K运算，K为`位限数`（如：8位二进制数的`位限数`为：256）<br>\n",
    "4. 无符号整型发生下溢（运算结果小于0）将减法转换为减数的补码，再作加法<br>\n",
    "**发生溢出的运算通通视为无效运算,无效运算在C语言中比比皆是,随处可见！**<br>"
   ]
  },
  {
   "cell_type": "code",
   "execution_count": null,
   "metadata": {},
   "outputs": [],
   "source": [
    "### 变量"
   ]
  },
  {
   "cell_type": "markdown",
   "metadata": {},
   "source": [
    "* C语言中变量的定义方法： **变量类型** **变量名(集合)** <br>\n",
    "（`全局变量`（一般不使用）在`函数`外部，函数区域出现以前的区域进行定义!）<br>"
   ]
  },
  {
   "cell_type": "code",
   "execution_count": 48,
   "metadata": {},
   "outputs": [],
   "source": [
    "int a;\n",
    "int b,c,d;\n",
    "int main(){\n",
    "return 0;\n",
    "}"
   ]
  },
  {
   "cell_type": "markdown",
   "metadata": {},
   "source": [
    "**注意1！！！作业中凡见全局变量，平时成绩直接减1分。**<br>\n",
    "**注意2！！！作业中凡见注释且文字描述合理，平时成绩会加分。**"
   ]
  },
  {
   "cell_type": "markdown",
   "metadata": {},
   "source": [
    "**变量类型**  <br>\n",
    "符号含义：变量的定义域(整数域？实数域？字符域？正数域？)<br>\n",
    "物理含义: 变量在内存中所占`二进制字节数`<br>"
   ]
  },
  {
   "cell_type": "markdown",
   "metadata": {},
   "source": [
    "整数域的定义方式?(整型`int`，长整型`long`，`long long`长长整型)<br>\n",
    "主要区别在于物理含义(1,2,4,8字节数?) &nbsp;&nbsp;&nbsp;&nbsp;&nbsp;&nbsp;数据类型所占字节数越多，所表达的数值范围越大<br>\n",
    "1 byte(字节)=8位二进制（char,signed char, unsigned char）<br>\n",
    "2 bytes(字节)=16位二进制(short,unsigned short)<br>\n",
    "4 bytes(字节)=32位二进制(int,unsigned int)<br>\n",
    "8 bytes(字节)=64位二进制(long,long long, long int, unsigned long, unsigned long long, unsigend long int)<br>\n",
    "如何类推？  超出8字节需自己定义数据类型与运算操作<br>\n",
    "**再回顾，C语言中的特性：语法灵活，不作类型检查**<br>\n",
    "**附加思考：如何利用C语言的特性，满足自己的运算需要**<br>"
   ]
  },
  {
   "cell_type": "code",
   "execution_count": 49,
   "metadata": {},
   "outputs": [
    {
     "name": "stdout",
     "output_type": "stream",
     "text": [
      "Type char used 1 bytes\n",
      "Type short used 2 bytes\n",
      "Type int used 4 bytes\n",
      "Type long used 8 bytes\n",
      "Type long long used 8 bytes\n",
      "Type unsigned char used 1 bytes\n",
      "Type unsigned short used 2 bytes\n",
      "Type unsigned int used 4 bytes\n",
      "Type unsigned long used 8 bytes\n",
      "Type unsigned long long used 8 bytes\n",
      "Type unsigned long long int used 8 bytes\n"
     ]
    }
   ],
   "source": [
    "#include <stdio.h> \n",
    "#include <stdlib.h>\n",
    "#define P_T(T) printf(\"Type \"#T\" used %lu bytes\\n\",sizeof(T))\n",
    "int main(){\n",
    "P_T(char);// $-2^7 ~ 2^7-1$\n",
    "P_T(short); //$-2^15 ~ 2^15-1$\n",
    "P_T(int); //$-2^31 ~ 2^31-1$\n",
    "P_T(long);//$-2^63 ~ 2^63-1$\n",
    "P_T(long long); //undefined in C89\n",
    "P_T(unsigned char); //$0 ~ 2^8-1$\n",
    "P_T(unsigned short); //$0 ~ 2^16-1$\n",
    "P_T(unsigned int); //$0 ~ 2^32-1$\n",
    "P_T(unsigned long); //$0 ~ 2^64-1$\n",
    "P_T(unsigned long long);\n",
    "P_T(unsigned long long int);\n",
    "}"
   ]
  },
  {
   "cell_type": "markdown",
   "metadata": {},
   "source": [
    "### C语言对于整型数据的定义： <br>\n",
    "最高为为0代表正数（0归为正数）<br>\n",
    "最高位为1代表负数 <br>"
   ]
  },
  {
   "cell_type": "markdown",
   "metadata": {},
   "source": [
    "### C语言中:$-k$使用$k$的补码进行存储\n",
    "* 原码：即正数所对应的二进制数&nbsp;&nbsp;&nbsp;&nbsp;7在8位二进制中为: 00000111 <br>\n",
    "* 反码: 即原码各位取反&nbsp;&nbsp;&nbsp;&nbsp;7在8位二进制中的反码为：11111000 <br>\n",
    "* 补码: 反码+1&nbsp;&nbsp;&nbsp;&nbsp;7在8位二进制中的补码为：11111001<br>\n",
    "假设我们定义：<br>\n",
    "```C\n",
    "int a=-7;\n",
    "```\n",
    "则a在内存为： 11111111 &nbsp;&nbsp;&nbsp;&nbsp;11111111 &nbsp;&nbsp;&nbsp;&nbsp;11111111 &nbsp;&nbsp;&nbsp;&nbsp;11111001<br>\n",
    "**注意：** &nbsp;&nbsp;&nbsp;&nbsp;a（int）所占字节数为4， 一个字节代表8位二进制"
   ]
  },
  {
   "cell_type": "markdown",
   "metadata": {},
   "source": [
    "### C语言中无符号（unsigned）整形最高位用来表达数值"
   ]
  },
  {
   "cell_type": "code",
   "execution_count": 6,
   "metadata": {},
   "outputs": [
    {
     "name": "stdout",
     "output_type": "stream",
     "text": [
      "2147483647\n",
      "-2147483648\n",
      "2147483648\n",
      "4294967294\n"
     ]
    }
   ],
   "source": [
    "#include <stdio.h>\n",
    "#include <stdlib.h>\n",
    "\n",
    "int main(){\n",
    "    int a =2147483647;\n",
    "    int b = a+1;\n",
    "    unsigned c =a*2;\n",
    "    printf(\"%d\\n\",a);\n",
    "    printf(\"%d\\n\",b);\n",
    "    printf(\"%u\\n\",b);\n",
    "    printf(\"%u\\n\",c);\n",
    "    return 0;\n",
    "}"
   ]
  },
  {
   "cell_type": "markdown",
   "metadata": {},
   "source": [
    "### C语言对于实数类型的定义： <br>\n",
    "符号位（s）+阶码(e)+尾数(p)<br>\n",
    "$f=(-1)^s \\times 2^{e} \\times(1.p)$ (二进制)<br>\n",
    "尾数采用`原码`表达<br>\n",
    "`阶码`采用`移码`表达<br>\n",
    "`移码`=`补码`的最高位取反码？(存在疑问)<br>"
   ]
  },
  {
   "cell_type": "markdown",
   "metadata": {},
   "source": [
    "对于单**精度**`浮点`(**float**)数来说：<br>\n",
    "len(s) = 1 <br>\n",
    "len(p) = 23<br>\n",
    "len(s)+len(p) = 3 bytes=24 <br>\n",
    "len(e) = 1 byte =8<br>\n"
   ]
  },
  {
   "cell_type": "code",
   "execution_count": 50,
   "metadata": {},
   "outputs": [
    {
     "name": "stdout",
     "output_type": "stream",
     "text": [
      "-1\n",
      "-20\n",
      "7\n"
     ]
    }
   ],
   "source": [
    "//%cflags:-lm\n",
    "#include <stdio.h>\n",
    "#include <stdlib.h>\n",
    "#include <math.h>\n",
    "\n",
    "#define S -1\n",
    "#define J -20\n",
    "#define P 1.875\n",
    "int main(){\n",
    "//定义浮点数s的具体数值为-1*1.875*2^(-20)\n",
    "\n",
    "//验证该浮点数的符号位为1    \n",
    "float s = S*pow(2.0,J)*P;\n",
    "signed char* pcs= (signed char*) &s;\n",
    "printf(\"%d\\n\",pcs[sizeof(s)-1]>>7);\n",
    "\n",
    "//0000  1010 \n",
    "// 1111 0101 +1 = 1111 0110   \n",
    "//验证该浮点数的阶码为： 0111 0110（0xA8）\n",
    "\n",
    "//20的补码为：  1111 0101+1= 1111 0110   代表-20\n",
    "//浮点数s中以符号位后8位记录由20的补码产生的阶码    \n",
    "// 由补码产生阶码的过程：   补码的符号位取反\n",
    "// 由阶码产生补码的过程：   阶码的符号位取反\n",
    "int* si  = (int*) &s; //视s位32位整型\n",
    "int k = (*si)<<1;   //将s移一位，去掉符号位，确保最高8位为8位二进制数。\n",
    "signed char* pck= (signed char*) &k;  //使用8位二进制数的数据类型存入最高8位2进制数\n",
    "//按照阶码的定义: 1111 0110 最高位取反： 0111 0110  ->  pck[sizeof(s)-1]\n",
    "printf(\"%d\\n\",pck[sizeof(s)-1]-127);     //将阶码转换为补码并输出 \n",
    "\n",
    "//-127以127的补码形式转换为2进制数为： 1000 0001， 理论上最高位取反不是应该加： 1000 0000吗？\n",
    "//这涉及编译器的具体实现方式。 不同的编译器有可能不同。在此本不想予详细解释。\n",
    "    \n",
    "//不过咱们来猜他一猜 ： GCC默认行为为： 移码以反吗的形式存储\n",
    "// 故pck[sizeof(s)-1]（阶码） 的真实值应该为： 20 的反码去掉符号位： 1111 0101去掉符号位 0111 0101\n",
    "//  由该值转换出20的补码应为：  该值符号位取反，再加一， 从而 应该加上1000 0001\n",
    "// 正好与127的补码相对应。 \n",
    "    \n",
    "//总结： 阶码的正确取法应为： 反码去掉符号位， 才可保留-0防止下溢。 或书上或网络释义存在疑问，我们以GCC为准。 \n",
    "//-0   0000 0000 各位取反得： 1111 1111   去掉符号位为： 0111 1111 (最小阶码)   \n",
    "    \n",
    "//验证该浮点数的尾码为0.875\n",
    "char* ss = (char*) &s;\n",
    "//0.875 = 0.5+0.25+0.125  = 2^(-1)+2^{-2}+2^{-3}=0.111\n",
    "//将0.111 去掉小数点与0 , 可验111(2)=7(10)  \n",
    "printf(\"%d\\n\",(ss[2]&0x7F)>>4); //解释7数字的由来\n",
    "//思考  ss[2]的含义，\n",
    "// 为什么要(>>4)将该数值向右移动4位？    \n",
    "}"
   ]
  },
  {
   "cell_type": "markdown",
   "metadata": {},
   "source": [
    "对于双**精度**`浮点`数(**float**)来说:<br>\n",
    "len(s) = 1 <br>\n",
    "len(e) = 11<br>\n",
    "len(p) = 52<br>"
   ]
  },
  {
   "cell_type": "markdown",
   "metadata": {},
   "source": [
    "浮点数的绝对`有效位数`： <br>\n",
    "单精度浮点数(float)的`绝对有效`位数为: floor($2^{23}-1$)的十进制位数=<br>\n",
    "双精度(位数（$2^{52}$)-1)<br>"
   ]
  },
  {
   "cell_type": "markdown",
   "metadata": {},
   "source": [
    "### C语言对于字符数据的定义： <br>\n",
    "默认char为8位<u>二进制数</u>,具体数值位字符的asc2码 <br>\n",
    "可定义有符号类型的字符变量，此时该类型的**实际含义为8位整型数据** <br>"
   ]
  },
  {
   "cell_type": "code",
   "execution_count": 1,
   "metadata": {},
   "outputs": [
    {
     "name": "stdout",
     "output_type": "stream",
     "text": [
      "~\n",
      "-128\n"
     ]
    }
   ],
   "source": [
    "#include <stdio.h>\n",
    "int main(){\n",
    "char a;\n",
    "signed char b; //用于表达8位二进制整数用于与ASC2码产生对应关系（看键盘）！\n",
    "a = 126;\n",
    "b = 128;\n",
    "printf(\"%c\\n\",a);\n",
    "printf(\"%d\\n\",b);//可以看出GCC编译器定义char数据类型为有符号！\n",
    "printf(\"%c\\n\",b);//程序不报错，但进入死循环。可以看出GCC便宜器对于查找字符的实现机制是采用循环！\n",
    "return 0;\n",
    "}"
   ]
  },
  {
   "cell_type": "markdown",
   "metadata": {},
   "source": [
    "**char**既可以代表8位二进制整型， 又可以代表字符。"
   ]
  },
  {
   "cell_type": "markdown",
   "metadata": {},
   "source": [
    "### C语言中的枚举类型（与switch-case 分支语句乃天作之和）"
   ]
  },
  {
   "cell_type": "code",
   "execution_count": 59,
   "metadata": {},
   "outputs": [
    {
     "name": "stdout",
     "output_type": "stream",
     "text": [
      "Today is Tuesday!\n",
      "4"
     ]
    }
   ],
   "source": [
    "#include <stdio.h>\n",
    "int main(){\n",
    "enum{mon,tue,wed,thu,fri,sat,sun} weekday ;  //我们定义了枚举类型weekday, weekay的值只能取mon,tue,wed,thu,fri,sat,sun\n",
    "weekday=tue;   \n",
    "switch(weekday){\n",
    "case mon:  printf(\"Today is Monday!\\n\");break;\n",
    "case tue:     printf(\"Today is Tuesday!\\n\");break;\n",
    "case wed:   printf(\"Today is Wednesday!\\n\");break;\n",
    "case thu:     printf(\"Today is Thursday!\\n\");break;\n",
    "case fri:       printf(\"Today is Friday!\\n\");break;\n",
    "case sat:     printf(\"Today is Saturaday!\\n\");break;\n",
    "case sun:    printf(\"Today is Sunday!\\n\");break;\n",
    "default:  printf(\"value of weekday undefined !\\n\");\n",
    "}\n",
    "printf(\"%ld\",sizeof(weekday));\n",
    "return 0;\n",
    "}"
   ]
  },
  {
   "cell_type": "code",
   "execution_count": 62,
   "metadata": {},
   "outputs": [
    {
     "name": "stdout",
     "output_type": "stream",
     "text": [
      "Today is Tuesday!\n",
      "4"
     ]
    }
   ],
   "source": [
    "#include <stdio.h>\n",
    "typedef enum{mon,tue,wed,thu,fri,sat,sun} weekdays;  // 全局数据类型定义， weekdays代表？\n",
    "int main(){\n",
    "weekdays weekday ;  //定义与weekdays等价类型的变量weekday;\n",
    "weekday=tue;   \n",
    "switch(weekday){\n",
    "case mon:  printf(\"Today is Monday!\\n\");break;\n",
    "case tue:     printf(\"Today is Tuesday!\\n\");break;\n",
    "case wed:   printf(\"Today is Wednesday!\\n\");break;\n",
    "case thu:     printf(\"Today is Thursday!\\n\");break;\n",
    "case fri:       printf(\"Today is Friday!\\n\");break;\n",
    "case sat:     printf(\"Today is Saturaday!\\n\");break;\n",
    "case sun:    printf(\"Today is Sunday!\\n\");break;\n",
    "default:  printf(\"value of weekday undefined !\\n\");\n",
    "}\n",
    "printf(\"%ld\",sizeof(weekday));\n",
    "return 0;\n",
    "}"
   ]
  },
  {
   "cell_type": "code",
   "execution_count": 64,
   "metadata": {},
   "outputs": [
    {
     "name": "stdout",
     "output_type": "stream",
     "text": [
      "Today is Tuesday!\n",
      "4"
     ]
    }
   ],
   "source": [
    "#include <stdio.h>\n",
    "#define weekdays enum{mon,tue,wed,thu,fri,sat,sun} // 使用宏替换预处理(编译)指令定义enum数据类型\n",
    "int main(){\n",
    "weekdays weekday ;  //定义与weekdays等价类型的变量weekday;\n",
    "weekday=tue;   \n",
    "switch(weekday){\n",
    "case mon:  printf(\"Today is Monday!\\n\");break;\n",
    "case tue:     printf(\"Today is Tuesday!\\n\");break;\n",
    "case wed:   printf(\"Today is Wednesday!\\n\");break;\n",
    "case thu:     printf(\"Today is Thursday!\\n\");break;\n",
    "case fri:       printf(\"Today is Friday!\\n\");break;\n",
    "case sat:     printf(\"Today is Saturaday!\\n\");break;\n",
    "case sun:    printf(\"Today is Sunday!\\n\");break;\n",
    "default:  printf(\"value of weekday undefined !\\n\");\n",
    "}\n",
    "printf(\"%ld\",sizeof(weekday));\n",
    "return 0;\n",
    "}"
   ]
  },
  {
   "cell_type": "markdown",
   "metadata": {},
   "source": [
    "**第一段代码： 在函数体内部定义数据类型，只在定义了该类型的函数体内，该类型可用。**<br>\n",
    "**typedef 编译器友好！在函数体外部，且在任意函数出现前定义数据类型，全局可用。**<br>\n",
    "**#define 李老师的即兴之作！与第一段代码基本等价， 然而会导致 weekdays数据类型在不同的函数中被重复定义！**<br>\n"
   ]
  },
  {
   "cell_type": "markdown",
   "metadata": {},
   "source": [
    "### 指针数据类型与指针变量\n",
    "在变量的声明中，凡在变量明前出现* 号，意味着定义了一个指针变量。 <br>\n",
    "以* 结尾的类型声明为 声明指针数据类型<br>"
   ]
  },
  {
   "cell_type": "code",
   "execution_count": null,
   "metadata": {},
   "outputs": [],
   "source": []
  }
 ],
 "metadata": {
  "kernelspec": {
   "display_name": "C",
   "language": "c",
   "name": "c"
  },
  "language_info": {
   "file_extension": ".c",
   "mimetype": "text/plain",
   "name": "c"
  }
 },
 "nbformat": 4,
 "nbformat_minor": 2
}
