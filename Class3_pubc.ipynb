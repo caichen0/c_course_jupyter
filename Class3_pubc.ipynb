{
 "cells": [
  {
   "cell_type": "markdown",
   "metadata": {},
   "source": [
    "<p style=\"text-align: center;font-size: 33px;font-weight:bold;\"> <span style=\"color:DarkGoldenrod\">&lt;&lt; C程序的基本要素 &gt;&gt;</span></p>\n",
    "<p style=\"text-align: center;font-size: 25px;font-weight:bold;\"> <span style=\"color:Goldenrod\">&lt;&lt; Programming Basics using C Language  &gt;&gt;</span></p>\n",
    "<p style=\"text-align: right; font-size:15px; font-weight:normal\">----千里之行，基于硅步</p>"
   ]
  },
  {
   "cell_type": "markdown",
   "metadata": {},
   "source": [
    "* **基本数据类型**\n",
    "* **C语句**\n",
    "* **数据的输入与输出**"
   ]
  },
  {
   "cell_type": "markdown",
   "metadata": {},
   "source": [
    "### 基本数据类型"
   ]
  },
  {
   "cell_type": "markdown",
   "metadata": {},
   "source": [
    "* **常量：** &nbsp;&nbsp;&nbsp;&nbsp; 程序中值不能被改变的量（程序不能改变，人可以通过修改源代码的方式调整）\n",
    "* **变量：** &nbsp;&nbsp;&nbsp;&nbsp; 程序中值能被改变的量  （回忆`伪代码`的的赋值符号$\\rightarrow$）"
   ]
  },
  {
   "cell_type": "code",
   "execution_count": null,
   "metadata": {},
   "outputs": [],
   "source": [
    "### 常量\n",
    "1. 通过`预编译`(`预处理`)指令进行定义。`编译器`在编译C代码的时候进行`符号替换`。\n",
    "2. 使用 const '常变量'定义符在`函数体`中定义"
   ]
  },
  {
   "cell_type": "code",
   "execution_count": null,
   "metadata": {},
   "outputs": [],
   "source": [
    "#include <stdio.h>\n",
    "#define PI 3.141592657\n",
    "int main(){\n",
    "const float c_pi=3.141592657;\n",
    "printf(\"The value of PI is:%lf\\n\",PI);\n",
    "printf(\"The value of c_pi is:%lf\",c_pi);\n",
    "return 0;\n",
    "}"
   ]
  },
  {
   "cell_type": "code",
   "execution_count": null,
   "metadata": {},
   "outputs": [],
   "source": [
    "### 变量"
   ]
  },
  {
   "cell_type": "markdown",
   "metadata": {},
   "source": [
    "* C语言中变量的定义方法： **变量类型** **变量名(集合)** <br>\n",
    "（`全局变量`（一般不使用）在`函数`外部，函数区域出现以前的区域进行定义!）<br>"
   ]
  },
  {
   "cell_type": "code",
   "execution_count": null,
   "metadata": {},
   "outputs": [],
   "source": [
    "int a;\n",
    "int b,c,d;\n",
    "int main(){\n",
    "return 0;\n",
    "}"
   ]
  },
  {
   "cell_type": "markdown",
   "metadata": {},
   "source": [
    "**变量类型**  <br>\n",
    "符号含义：变量的定义域(整数域？实数域？字符域？正数域？)<br>\n",
    "物理含义: 变量在内存中所占`二进制字节数`<br>"
   ]
  },
  {
   "cell_type": "code",
   "execution_count": null,
   "metadata": {},
   "outputs": [],
   "source": [
    "整数域的定义方式?(整型`int`，长整型`long`，`long long`长长整型)<br>\n",
    "主要区别在于物理含义(1,2,4,8字节数?) &nbsp;&nbsp;&nbsp;&nbsp;&nbsp;&nbsp;数据类型所占字节数越多，所表达的数值范围越大<br>"
   ]
  },
  {
   "cell_type": "markdown",
   "metadata": {},
   "source": [
    "C语言只针对整数域定义正数域，未定义`自然数`域。<br>\n",
    "从工程的角度上说，定义正数域是为了省字节<br>"
   ]
  },
  {
   "cell_type": "code",
   "execution_count": 4,
   "metadata": {},
   "outputs": [
    {
     "name": "stdout",
     "output_type": "stream",
     "text": [
      "Type signed char used 1 bytes\n",
      "Type short used 2 bytes\n",
      "Type int used 4 bytes\n",
      "Type long used 8 bytes\n",
      "Type long long used 8 bytes\n",
      "Type unsigned char used 1 bytes\n",
      "Type unsigned short used 2 bytes\n",
      "Type unsigned int used 4 bytes\n",
      "Type unsigned long used 8 bytes\n",
      "Type unsigned long long used 8 bytes\n"
     ]
    }
   ],
   "source": [
    "#include <stdio.h> \n",
    "#include <stdlib.h>\n",
    "#define P_T(T) printf(\"Type \"#T\" used %lu bytes\\n\",sizeof(T))\n",
    "int main(){\n",
    "P_T(char);// $-2^7 ~ 2^7-1$\n",
    "P_T(short); //$-2^15 ~ 2^15-1$\n",
    "P_T(int); //$-2^31 ~ 2^31-1$\n",
    "P_T(long);//$-2^63 ~ 2^63-1$\n",
    "P_T(long long); //undefined in C89\n",
    "P_T(unsigned char); //$0 ~ 2^8-1$\n",
    "P_T(unsigned short); //$0 ~ 2^16-1$\n",
    "P_T(unsigned int); //$0 ~ 2^32-1$\n",
    "P_T(unsigned long); //$0 ~ 2^64-1$\n",
    "P_T(unsigned long long);\n",
    "}"
   ]
  },
  {
   "cell_type": "markdown",
   "metadata": {},
   "source": [
    "### C语言对于整型数据的定义： <br>\n",
    "最高为为0代表正数（0归为正数）<br>\n",
    "最高位为1代表负数 <br>"
   ]
  },
  {
   "cell_type": "markdown",
   "metadata": {},
   "source": [
    "### C语言中:$-k$使用$k$的补码进行存储\n",
    "* 原码：即正数所对应的二进制数&nbsp;&nbsp;&nbsp;&nbsp;7在8位二进制中为: 00000111 <br>\n",
    "* 反码: 即原码各位取反&nbsp;&nbsp;&nbsp;&nbsp;7在8位二进制中的反码为：11111000 <br>\n",
    "* 补码: 反码+1&nbsp;&nbsp;&nbsp;&nbsp;7在8位二进制中的补码为：11111001<br>\n",
    "假设我们定义：<br>\n",
    "```C\n",
    "int a=-7;\n",
    "```\n",
    "则a在内存为： 11111111 &nbsp;&nbsp;&nbsp;&nbsp;11111111 &nbsp;&nbsp;&nbsp;&nbsp;11111111 &nbsp;&nbsp;&nbsp;&nbsp;11111001<br>\n",
    "**注意：** &nbsp;&nbsp;&nbsp;&nbsp;a（int）所占字节数为4， 一个字节代表8位二进制"
   ]
  },
  {
   "cell_type": "markdown",
   "metadata": {},
   "source": [
    "### C语言中无符号（unsigned）整形最高位用来表达数值"
   ]
  },
  {
   "cell_type": "code",
   "execution_count": 6,
   "metadata": {},
   "outputs": [
    {
     "name": "stdout",
     "output_type": "stream",
     "text": [
      "2147483647\n",
      "-2147483648\n",
      "2147483648\n",
      "4294967294\n"
     ]
    }
   ],
   "source": [
    "#include <stdio.h>\n",
    "#include <stdlib.h>\n",
    "\n",
    "int main(){\n",
    "    int a =2147483647;\n",
    "    int b = a+1;\n",
    "    unsigned c =a*2;\n",
    "    printf(\"%d\\n\",a);\n",
    "    printf(\"%d\\n\",b);\n",
    "    printf(\"%u\\n\",b);\n",
    "    printf(\"%u\\n\",c);\n",
    "    return 0;\n",
    "}"
   ]
  },
  {
   "cell_type": "markdown",
   "metadata": {},
   "source": [
    "### C语言对于实数类型的定义： <br>\n",
    "符号位（s）+阶码(e)+尾数(p)<br>\n",
    "$f=(-1)^s \\times 2^{e} \\times(1.p)$ (二进制)<br>\n",
    "尾数采用`原码`表达<br>\n",
    "`阶码`采用`移码`表达<br>\n",
    "`移码`=`阶码`的符号位取反<br>"
   ]
  },
  {
   "cell_type": "markdown",
   "metadata": {},
   "source": [
    "对于单**精度**`浮点`数来说：<br>\n",
    "len(s) = 1 <br>\n",
    "len(p) = 23<br>\n",
    "len(s)+len(p) = 3 bytes=24 <br>\n",
    "len(e) = 1 byte =8<br>\n"
   ]
  },
  {
   "cell_type": "code",
   "execution_count": 51,
   "metadata": {},
   "outputs": [
    {
     "name": "stdout",
     "output_type": "stream",
     "text": [
      "-1\n",
      "-20\n",
      "7\n"
     ]
    }
   ],
   "source": [
    "//%cflags:-lm\n",
    "#include <stdio.h>\n",
    "#include <stdlib.h>\n",
    "#include <math.h>\n",
    "\n",
    "#define S -1\n",
    "#define J -20\n",
    "#define P 1.875\n",
    "int main(){\n",
    "float s = S*pow(2.0,J)*P;\n",
    "signed char* pcs= (signed char*) &s;\n",
    "printf(\"%d\\n\",pcs[sizeof(s)-1]>>7);\n",
    "\n",
    "int* si  = (int*) &s;\n",
    "int k = (*si)<<1;\n",
    "signed char* pck= (signed char*) &k;\n",
    "printf(\"%d\\n\",pck[sizeof(s)-1]-127);\n",
    "\n",
    "char* ss = (char*) &s;\n",
    "printf(\"%d\\n\",(ss[2]&0x7F)>>4);\n",
    "}"
   ]
  },
  {
   "cell_type": "markdown",
   "metadata": {},
   "source": [
    "对于双**精度**`浮点`数来说:<br>\n",
    "len(s) = 1 <br>\n",
    "len(e) = 11<br>\n",
    "len(p) = 52<br>"
   ]
  },
  {
   "cell_type": "markdown",
   "metadata": {},
   "source": [
    "浮点数的绝对`有效位数`： <br>\n",
    "单精度(位数（$2^{23}$)-1)<br>\n",
    "双精度(位数（$2^{52}$)-1)<br>"
   ]
  },
  {
   "cell_type": "markdown",
   "metadata": {},
   "source": [
    "### C语言对于字符数据的定义： <br>\n",
    "默认char为8位二进制数,具体数值位字符的asc2码 <br>\n",
    "可定义有符号类型的字符变量，此时该类型的**实际含义为8位整型数据** <br>"
   ]
  },
  {
   "cell_type": "code",
   "execution_count": 2,
   "metadata": {},
   "outputs": [
    {
     "name": "stdout",
     "output_type": "stream",
     "text": [
      "~\n",
      "-128\n"
     ]
    }
   ],
   "source": [
    "#include <stdio.h>\n",
    "int main(){\n",
    "char a;\n",
    "signed char b; //用于表达8位二进制整数\n",
    "  //用于表达16位二进制整数\n",
    "a = 126;\n",
    "b = 128;\n",
    "printf(\"%c\\n\",a);\n",
    "printf(\"%d\\n\",b);\n",
    "return 0;\n",
    "}"
   ]
  },
  {
   "cell_type": "code",
   "execution_count": null,
   "metadata": {},
   "outputs": [],
   "source": []
  }
 ],
 "metadata": {
  "kernelspec": {
   "display_name": "C",
   "language": "c",
   "name": "c"
  },
  "language_info": {
   "file_extension": ".c",
   "mimetype": "text/plain",
   "name": "c"
  }
 },
 "nbformat": 4,
 "nbformat_minor": 2
}
